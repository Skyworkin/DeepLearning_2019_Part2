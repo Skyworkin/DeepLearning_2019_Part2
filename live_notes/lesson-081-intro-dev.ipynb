{
 "cells": [
  {
   "cell_type": "markdown",
   "metadata": {},
   "source": [
    "# Fastai 2019: Lesson 8 - Dev Setup\n",
    "\n",
    "Lessons can be found : https://github.com/fastai/fastai_docs/tree/master/dev_course/dl2\n",
    "\n",
    "Covering:\n",
    "- https://github.com/fastai/fastai_docs/blob/master/dev_course/dl2/00_exports.ipynb\n",
    "\n",
    "These notes will try and follow the lesson as close as possible, without jumping around to too many files. For this particular course, the libraries being built will be done via Notebooks, instead of the traditional `.py` files. There's currently a helper file in this directory called `notebook2script.py` that will convert cells into functions"
   ]
  },
  {
   "cell_type": "markdown",
   "metadata": {},
   "source": [
    "### Sample export cell\n",
    "\n",
    "Prerequistes: `pip install fire`\n",
    "\n",
    "```\n",
    "mkdir exp\n",
    "```\n",
    "\n",
    "What to run:\n",
    "\n",
    "```\n",
    "$python notebook2script.py 00_exports.ipynb\n",
    "```\n",
    "\n",
    "This will go through a particular notebook, and will find the cells with `#exports`"
   ]
  },
  {
   "cell_type": "code",
   "execution_count": null,
   "metadata": {},
   "outputs": [],
   "source": [
    "#export\n",
    "TEST = 'test'"
   ]
  },
  {
   "cell_type": "code",
   "execution_count": 1,
   "metadata": {},
   "outputs": [
    {
     "name": "stdout",
     "output_type": "stream",
     "text": [
      "mkdir: exp: File exists\n"
     ]
    }
   ],
   "source": [
    "!mkdir exp"
   ]
  },
  {
   "cell_type": "code",
   "execution_count": 11,
   "metadata": {},
   "outputs": [
    {
     "name": "stdout",
     "output_type": "stream",
     "text": [
      "Converted lesson81.ipynb to nb_lesson81.py\n"
     ]
    }
   ],
   "source": [
    "!python notebook2script.py lesson81.ipynb"
   ]
  },
  {
   "cell_type": "markdown",
   "metadata": {},
   "source": [
    "### Load the saved constant\n",
    "\n",
    "Now that the above should have been created, we should be able to import the variable `TEST`. For the purpose of notes, the functions will be written in a longer format instead of the compact version found in the lesson"
   ]
  },
  {
   "cell_type": "code",
   "execution_count": 3,
   "metadata": {},
   "outputs": [],
   "source": [
    "from exp.nb_lesson8 import *\n",
    "import operator\n",
    "\n",
    "\n",
    "def test(a, b, cmp, cname=None):\n",
    "    \"\"\"\n",
    "    Simple test function\n",
    "    \"\"\"\n",
    "    # if no name is passed, \n",
    "    if cname is None: \n",
    "        cname=cmp.__name__\n",
    "\n",
    "    # this is the test\n",
    "    # if it fails, the second phrase will be returned\n",
    "    # which is the f\"{cname}:\\n{a}\\n{b}\"\n",
    "    assert cmp(a, b), f\"{cname}:\\n{a}\\n{b}\"\n",
    "\n",
    "def test_eq(a,b):\n",
    "    \"\"\"\n",
    "    Is a larger function that calls the test function\n",
    "    but only passes teh == sign\n",
    "    \"\"\"\n",
    "    test(a, b, operator.eq, '==')"
   ]
  },
  {
   "cell_type": "markdown",
   "metadata": {},
   "source": [
    "### Run a sample test\n",
    "\n",
    "If correct, you won't get any feedback\n",
    "\n",
    "```python\n",
    "test_eq(TEST, \"test\")\n",
    "```\n",
    "\n",
    "If it was wrong you should get a message as follows:\n",
    "    \n",
    "```python\n",
    "test_eq(TEST, \"nottest\")\n",
    "```\n",
    "\n",
    "```bash\n",
    "    -\n",
    "    AssertionErrorTraceback (most recent call last)\n",
    "    <ipython-input-5-24a85abd2d33> in <module>\n",
    "    ----> 1 test_eq(TEST, \"nottest\")\n",
    "\n",
    "    <ipython-input-3-82ec92dcee6d> in test_eq(a, b)\n",
    "         21     but only passes teh == sign\n",
    "         22     \"\"\"\n",
    "    ---> 23     test(a, b, operator.eq, '==')\n",
    "\n",
    "    <ipython-input-3-82ec92dcee6d> in test(a, b, cmp, cname)\n",
    "         14     # if it fails, the second phrase will be returned\n",
    "         15     # which is the f\"{cname}:\\n{a}\\n{b}\"\n",
    "    ---> 16     assert cmp(a, b), f\"{cname}:\\n{a}\\n{b}\"\n",
    "         17 \n",
    "         18 def test_eq(a,b):\n",
    "\n",
    "    AssertionError: ==:\n",
    "    test\n",
    "    nottest\n",
    "\n",
    "```\n",
    "    "
   ]
  },
  {
   "cell_type": "code",
   "execution_count": 4,
   "metadata": {},
   "outputs": [],
   "source": [
    "test_eq(TEST, \"test\")"
   ]
  },
  {
   "cell_type": "markdown",
   "metadata": {},
   "source": [
    "### How to run tests outside the notebook\n",
    "\n",
    "`run_notebook.py` will do this\n",
    "\n",
    "```python\n",
    "python run_notebook.py lesson8.ipynb\n",
    "```"
   ]
  },
  {
   "cell_type": "markdown",
   "metadata": {},
   "source": [
    "### What's in `run_notebook.py`\n",
    "\n",
    "\n",
    "```python\n",
    "#!/usr/bin/env python\n",
    "\n",
    "import nbformat,fire\n",
    "from nbconvert.preprocessors import ExecutePreprocessor\n",
    "\n",
    "def run_notebook(path):\n",
    "    nb = nbformat.read(open(path), as_version=nbformat.NO_CONVERT)\n",
    "    ExecutePreprocessor(timeout=600).preprocess(nb, {})\n",
    "    print('done')\n",
    "\n",
    "if __name__ == '__main__': fire.Fire(run_notebook)\n",
    "```\n",
    "\n",
    "- **`nbformat`** lets you run a notebook and print out any errors\n",
    "- **`fire`** takes any function and turns it into a command line interface, this manages arguments and other input values\n",
    "\n",
    "#### Example\n",
    "\n",
    "```python\n",
    "! python run_notebook.py\n",
    "```\n",
    "\n",
    "Will return the function inputs / parameters\n",
    "\n",
    "```bash\n",
    "    Fire trace:\n",
    "    1. Initial component\n",
    "    2. ('The function received no value for the required argument:', 'path')\n",
    "\n",
    "    Type:        functio