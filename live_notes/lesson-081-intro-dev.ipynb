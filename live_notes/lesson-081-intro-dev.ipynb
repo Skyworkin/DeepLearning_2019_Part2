{
 "cells": [
  {
   "cell_type": "markdown",
   "metadata": {},
   "source": [
    "# Fastai 2019: Lesson 8 - Dev Setup\n",
    "\n",
    "Lessons can be found : https://github.com/fastai/fastai_docs/tree/master/dev_course/dl2\n",
    "\n",
    "Covering:\n",
    "- https://github.com/fastai/fastai_docs/blob/master/dev_course/dl2/00_exports.ipynb\n",
    "\n",
    "These notes will try and follow the lesson as close as possible, without jumping around to too many files. For this particular course, the libraries being built will be done via Notebooks, instead of the traditional `.py` files. There's currently a helper file in this directory called `notebook2script.py` that will convert cells into functions"
   ]
  },
  {
   "cell_type": "markdown",
  