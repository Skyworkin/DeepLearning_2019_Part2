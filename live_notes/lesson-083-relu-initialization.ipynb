{
 "cells": [
  {
   "cell_type": "markdown",
   "metadata": {},
   "source": [
    "# Lesson 8 Making Relu / Initialization \n",
    "\n",
    "<img src=\"https://snag.gy/Uy9qxS.jpg\" style=\"width:700px\"/>"
   ]
  },
  {
   "cell_type": "code",
   "execution_count": 3,
   "metadata": {},
