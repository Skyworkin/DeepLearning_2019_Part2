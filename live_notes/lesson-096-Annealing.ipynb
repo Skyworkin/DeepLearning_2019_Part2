{
 "cells": [
  {
   "cell_type": "code",
   "execution_count": 4,
   "metadata": {},
   "outputs": [
    {
     "name": "stdout",
     "output_type": "stream",
     "text": [
      "The autoreload extension is already loaded. To reload it, use:\n",
      "  %reload_ext autoreload\n"
     ]
    }
   ],
   "source": [
    "%load_ext autoreload\n",
    "%autoreload 2\n",
    "\n",
    "%matplotlib inline"
   ]
  },
  {
   "cell_type": "code",
   "execution_count": 5,
   "metadata": {},
   "outputs": [],
   "source": [
    "from fastai_lib import *"
   ]
  },
  {
   "cell_type": "markdown",
   "metadata": {},
   "source": [
    "## initial data setup"
   ]
  },
  {
   "cell_type": "code",
   "execution_count": 6,
   "metadata": {},
   "outputs": [],
   "source": [
    "x_train, y_train, x_valid, y_valid = get_data()\n",
    "train_ds, valid_ds = Dataset(x_train, y_train), Dataset(x_valid, y_valid)\n",
    "nh, bs = 50, 512\n",
    "c = y_train.max().item()+1\n",
    "loss_func = F.cross_entropy"
   ]
  },
  {
   "cell_type": "markdown",
   "metadata": {},
   "source": [
    "Short intro: if you can get a small batch going fairly going well, you are off to a good start for super convergence"
   ]
  },
  {
   "cell_type": "code",
   "execution_count": 7,
   "metadata": {},
   "outputs": [],
   "source": [
    "data = DataBunch(*get_dls(train_ds, valid_ds, bs), c)"
   ]
  },
  {
   "cell_type": "code",
   "execution_count": 8,
   "metadata": {},
   "outputs": [],
   "source": [
    "#export\n",
    "def create_learner(model_func, loss_func, data):\n",
    "    return Learner(*model_func(data), loss_func, data)"
   ]
  },
  {
   "cell_type": "code",
   "execution_count": 9,
   "metadata": {},
   "outputs": [],
   "source": [
    "learn = create_learner(get_model, loss_func, data)\n",
    "run = Runner([AvgStatsCallback([accuracy])])"
   ]
  },
  {
   "cell_type": "code",
   "execution_count": 10,
   "metadata": {},
   "outputs": [
    {
     "name": "stdout",
     "output_type": "stream",
     "text": [
      "train: [0.69311296875, tensor(0.7930)]\n",
      "valid: [0.3344400146484375, tensor(0.9039)]\n",
      "train: [0.297352734375, tensor(0.9134)]\n",
      "valid: [0.2290689697265625, tensor(0.9360)]\n",
      "train: [0.23737439453125, tensor(0.9318)]\n",
      "valid: [0.19877386474609374, tensor(0.9448)]\n"
     ]
    }
   ],
   "source": [
    "run.fit(3, learn)"
   ]
  },
  {
   "cell_type": "code",
   "execution_count": 11,
   "metadata": {},
   "outputs": [
    {
     "name": "stdout",
     "output_type": "stream",
     "text": [
      "train: [0.7548671875, tensor(0.7975)]\n",
      "valid: [0.355202783203125, tensor(0.9003)]\n",
      "train: [0.3477811328125, tensor(0.8997)]\n",
      "valid: [0.291547705078125, tensor(0.9151)]\n",
      "train: [0.294677890625, tensor(0.9154)]\n",
      "valid: [0.2694351806640625, tensor(0.9209)]\n"
     ]
    }
   ],
   "source": [
    "learn = create_learner(partial(get_model, lr=0.3), loss_func, data)\n",
    "run = Runner([AvgStatsCallback([accuracy])])\n",
    "\n",
    "run.fit(3, learn)"
   ]
  },
  {
   "cell_type": "code",
   "execution_count": 12,
   "metadata": {},
   "outputs": [],
   "source": [
    "#export\n",
    "def get_model_func(lr=0.5): \n",
    "    return partial(get_model, lr=lr)"
   ]
  },
  {
   "cell_type": "markdown",
   "metadata": {},
   "source": [
    "## Annealing\n",
    "\n",
    "We define two new callbacks: the Recorder to save track of the loss and our scheduled learning rate, and a ParamScheduler that can schedule any hyperparameter as long as it's registered in the state_dict of the optimizer. "
   ]
  },
  {
   "cell_type": "code",
   "execution_count": 13,
   "metadata": {},
   "outputs": [],
   "source": [
    "class Recorder(Callback):\n",
    "    \"\"\"\n",
    "    This is to assist in visualizing what is happening\n",
    "    There's a lot of learning rates (could be different for)\n",
    "    each groups\n",
    "    \"\"\"\n",
    "    def begin_fit(self): self.lrs,self.losses = [],[]\n",
    "\n",
    "    def after_batch(self):\n",
    "        if not self.in_train: return\n",
    "        self.lrs.append(self.opt.param_groups[-1]['lr'])\n",
    "        self.losses.append(self.loss.detach().cpu())        \n",
    "\n",
    "    def plot_lr  (self):\n",
    "        plt.plot(self.lrs)\n",
    "\n",
    "    def plot_loss(self):\n",
    "        plt.plot(self.losses)\n",
    "\n",
    "\n",
    "class ParamScheduler(Callback):\n",
    "    \"\"\"\n",
    "    Schedules any parameter, learning rate / dropout / weight decay etc.\n",
    "    \"\"\"\n",
    "    _order=1\n",
    "    def __init__(self, pname, sched_func): \n",
    "        self.pname, self.sched_func = pname, sched_func\n",
    "\n",
    "    def set_param(self):\n",
    "        \n",
    "        # param_groups (layer groups)\n",
    "        # loop through different groups of layers\n",
    "        for pg in self.opt.param_groups:\n",
    "\n",
    "            # float of how far we are through training\n",
    "            pg[self.pname] = self.sched_func(self.n_epochs/self.epochs)\n",
    "            \n",
    "    def begin_batch(self): \n",
    "        if self.in_train: \n",
    "            self.set_param()"
   ]
  },
  {
   "cell_type": "markdown",
   "metadata": {},
   "source": [
    "Let's start with a simple linear schedule going from start to end. It returns a function that takes a `pos` argument (going from 0 to 1) such that this function goes from `start` (at `pos=0`) to `end` (at `pos=1`) in a linear fashion."
   ]
  },
  {
   "cell_type": "code",
   "execution_count": 15,
   "metadata": {},
   "outputs": [],
   "source": [
    "def sched_lin(start, end):\n",
    "    \"\"\"\n",
    "    THis is a function that will return a function\n",
    "    \"\"\"\n",
    "    def _inner(start, end, pos): \n",
    "        return start + pos*(end-start)\n",
    "    \n",
    "    # returns a function that only takes position\n",
    "    return partial(_inner, start, end)"
   ]
  },
  {
   "cell_type": "markdown",
   "metadata": {},
   "source": [
    "## decorators\n",
    "\n",
    "This is an example of a decorator, so it can be used for any number of times. A decorator is a function that returns a function. It will pass the following function into the `@` related function. When defining custom decorators, make sure to return another function"
   ]
  },
  {
   "cell_type": "code",
   "execution_count": 18,
   "metadata": {},
   "outputs": [],
   "source": [
    "#export\n",
    "def annealer(f):\n",
    "    def _inner(start, end): \n",
    "        return partial(f, start, end)\n",
    "    return _inner\n",
    "\n",
    "@annealer\n",
    "def sched_lin(start, end, pos): \n",
    "    return start + pos*(end-start)"
   ]
  },
  {
   "cell_type": "code",
   "execution_count": 20,
   "metadata": {},
   "outputs": [],
   "source": [
    "# shift-tab works too, in Jupyter!\n",
    "# sched_lin()"
   ]
  },
  {
   "cell_type": "code",
   "execution_count": 21,
   "metadata": {},
   "outputs": [
    {
     "data": {
      "text/plain": [
       "1.3"
      ]
     },
     "execution_count": 21,
     "metadata": {},
     "output_type": "execute_result"
    }
   ],
   "source": [
    "f = sched_lin(1,2)\n",
    "f(0.3)"
   ]
  },
  {
   "cell_type": "code",
   "execution_count": 22,
   "metadata": {},
   "outputs": [],
   "source": [
    "#export\n",
    "@annealer\n",
    "def sched_cos(start, end, pos): \n",
    "    \"\"\"\n",
    "    returns a cosine\n",
    "    \"\"\"\n",
    "    return start + (1 + math.cos(math.pi*(1-pos))) * (end-start) / 2\n",
    "\n",
    "@annealer\n",
    "def sched_no(start, end, pos):\n",
    "    \"\"\"\n",
    "    Always returns start\n",
    "    \"\"\"\n",
    "    return start\n",
    "\n",
    "@annealer\n",
    "def sched_exp(start, end, pos): \n",
    "    return start * (end/start) ** pos\n",
    "\n",
    "#This monkey-patch is there to be able to plot tensors\n",
    "torch.Tensor.ndim = property(lambda x: len(x.shape))"
   ]
  },
  {
   "cell_type": "code",
   "execution_count": 23,
   "metadata": {},
   "outputs": [
    {
     "data": {
      "image/png": "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\n",
      "text/plain": [
       "<Figure size 432x288 with 1 Axes>"
      ]
     },
     "metadata": {
      "needs_background": "light"
     },
     "output_type": "display_data"
    }
   ],
   "source": [
    "annealings = \"NO LINEAR COS EXP\".split()\n",
    "\n",
    "a = torch.arange(0, 100)\n",
    "p = torch.linspace(0.01,1,100)\n",
    "\n",
    "fns = [sched_no, sched_lin, sched_cos, sched_exp]\n",
    "for fn, t in zip(fns, annealings):\n",
    "    f = fn(2, 1e-2)\n",
    "    plt.plot(a, [f(o) for o in p], label=t)\n",
    "plt.legend();"
   ]
  },
  {
   "cell_type": "markdown",
   "metadata": {},
   "source": [
    "In practice, we'll often want to combine different schedulers, the following function does that: it uses `scheds[i]` for `pcts[i]` of the training.\n",
    "\n",
    "In general what you want is startup / cooldown / etc."
   ]
  },
  {
   "cell_type": "code",
   "execution_count": 24,
   "metadata": {},
   "outputs": [],
   "source": [
    "#export\n",
    "def combine_scheds(pcts, scheds):\n",
    "    assert sum(pcts) == 1.\n",
    "    pcts = tensor([0] + listify(pcts))\n",
    "    assert torch.all(pcts >= 0)\n",
    "    pcts = torch.cumsum(pcts, 0)\n",
    "    def _inner(pos):\n",
    "        idx = (pos >= pcts).nonzero().max()\n",
    "        actual_pos = (pos-pcts[idx]) / (pcts[idx+1]-pcts[idx])\n",
    "        return scheds[idx](actual_pos)\n",
    "    return _inner"
   ]
  },
  {
   "cell_type": "code",
   "execution_count": 25,
   "metadata": {},
   "outputs": [],
   "source": [
    "sched = combine_scheds(\n",
    "    [0.3, 0.7],\n",
    "    [sched_cos(0.3, 0.6), \n",
    "     sched_cos(0.6, 0.2)]\n",
    ") "
   ]
  },
  {
   "cell_type": "markdown",
   "metadata": {},
   "source": [
    "### example of cosine schedule"
   ]
  },
  {
   "cell_type": "code",
   "execution_count": 26,
   "metadata": {},
   "outputs": [
    {
     "data": {
      "text/plain": [
       "[<matplotlib.lines.Line2D at 0x132cee080>]"
      ]
     },
     "execution_count": 26,
     "metadata": {},
     "output_type": "execute_result"
    },
    {
     "data": {
      "image/png": "iVBORw0KGgoAAAANSUhEUgAAAX0AAAD8CAYAAACb4nSYAAAABHNCSVQICAgIfAhkiAAAAAlwSFlzAAALEgAACxIB0t1+/AAAADl0RVh0U29mdHdhcmUAbWF0cGxvdGxpYiB2ZXJzaW9uIDMuMC4zLCBodHRwOi8vbWF0cGxvdGxpYi5vcmcvnQurowAAIABJREFUeJzt3Xd8VfX9x/HXJ5sREkZYIcwEMKwAYSiiYFVwgT+1Mhy4Sp1YtUNt67ZD66pSKgJWHCzFipNaFwICCZswA4GEIGQAIQlkf35/5NLHFcFcyDh3fJ6PRx7mnntO8j4efXM54/sVVcUYY0xgCHI6gDHGmIZjpW+MMQHESt8YYwKIlb4xxgQQK31jjAkgVvrGGBNArPSNMSaAWOkbY0wAsdI3xpgAEuJ0gBO1atVKO3fu7HQMY4zxKatXr85T1Zia1vO60u/cuTOpqalOxzDGGJ8iIns8Wc9O7xhjTACx0jfGmABipW+MMQHESt8YYwKIlb4xxgQQj0pfREaLyDYRSReRB0+xzrUisllE0kTkHbflk0Rkh+trUl0FN8YYc/pqvGVTRIKBqcBFwF4gRUQWqepmt3USgIeAYap6SERau5a3AB4FkgEFVru2PVT3u2KMMaYmntynPxhIV9VdACIyFxgLbHZb5xfA1ONlrqo5ruWjgM9V9aBr28+B0cCcuolvGsKRknIycovJPHiUrENHqahUwkOCiAgNJqpRKK0jw2ndLJz20Y1oHOZ1j34YY9x48n9oLJDl9novMOSEdboDiMgyIBh4TFU/O8W2sSf+AhGZDEwG6Nixo6fZTT2qqlKWpucxNyWTzzcfoLzSs7mUY6MbkdCmKT3bNmNgp+YM6BhNy6bh9ZzWGOOpuvpYFgIkACOADsASEenj6caqOh2YDpCcnGwztTtsyfZcHvlgE7vzj9K8cSg3DO3M0K4t6NiyMXHNGx