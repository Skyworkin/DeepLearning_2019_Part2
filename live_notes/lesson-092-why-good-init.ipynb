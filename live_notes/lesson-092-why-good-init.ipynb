{
 "cells": [
  {
   "cell_type": "code",
   "execution_count": 1,
   "metadata": {},
   "outputs": [],
   "source": [
    "import torch"
   ]
  },
  {
   "cell_type": "markdown",
   "metadata": {},
   "source": [
    "## Why you need a good init\n",
    "\n",
    "To understand why initialization is important in a neural net, we'll focus on the bas