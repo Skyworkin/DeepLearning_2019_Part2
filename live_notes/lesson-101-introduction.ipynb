{
 "cells": [
  {
   "cell_type": "markdown",
   "metadata": {},
   "source": [
    "## Cuda CNN\n",
    "\n",
    "### Recap we are trying to recreate fastai\n",
    "\n",
    "<img src='https://snag.gy/xhSz1v.jpg' >\n",
    "\n",
    "<img src='https://snag.gy/a6F7Ue.jpg' >\n",
    "\n",
    "\n",
